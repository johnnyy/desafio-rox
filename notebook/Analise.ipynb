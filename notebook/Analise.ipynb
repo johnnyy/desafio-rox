{
 "cells": [
  {
   "cell_type": "code",
   "execution_count": 1,
   "metadata": {},
   "outputs": [],
   "source": [
    "import pandas as pd\n",
    "import os"
   ]
  },
  {
   "cell_type": "code",
   "execution_count": 2,
   "metadata": {},
   "outputs": [],
   "source": [
    "x,v,file =os.walk('../')\n",
    "datasets = x[2]"
   ]
  },
  {
   "cell_type": "code",
   "execution_count": 7,
   "metadata": {},
   "outputs": [],
   "source": [
    "df_list = []\n",
    "df_name = []\n",
    "for file in datasets:\n",
    "    if file.split('.')[-1] == 'csv':\n",
    "        df_name.append(file)\n",
    "        df_list.append(pd.read_csv(f'../{file}',delimiter='|'))\n",
    "        "
   ]
  },
  {
   "cell_type": "code",
   "execution_count": 8,
   "metadata": {},
   "outputs": [
    {
     "data": {
      "text/plain": [
       "6"
      ]
     },
     "execution_count": 8,
     "metadata": {},
     "output_type": "execute_result"
    }
   ],
   "source": [
    "len(df_list)"
   ]
  },
  {
   "cell_type": "code",
   "execution_count": 24,
   "metadata": {},
   "outputs": [
    {
     "name": "stdout",
     "output_type": "stream",
     "text": [
      "Porcentagem de nulos Person.Person.csv\n"
     ]
    },
    {
     "data": {
      "text/plain": [
       "BusinessEntityID         0.000000\n",
       "PersonType               0.000000\n",
       "NameStyle                0.000000\n",
       "Title                    0.949479\n",
       "FirstName                0.000000\n",
       "MiddleName               0.425546\n",
       "LastName                 0.000000\n",
       "Suffix                   0.997346\n",
       "EmailPromotion           0.000000\n",
       "AdditionalContactInfo    0.999499\n",
       "Demographics             0.000000\n",
       "rowguid                  0.000000\n",
       "ModifiedDate             0.000000\n",
       "dtype: float64"
      ]
     },
     "execution_count": 24,
     "metadata": {},
     "output_type": "execute_result"
    }
   ],
   "source": [
    "df_person = df_list[-1]\n",
    "print(\"Porcentagem de nulos\",df_name[-1])\n",
    "pd.isna(df_person).sum()/df_person.shape[0]"
   ]
  },
  {
   "cell_type": "code",
   "execution_count": 28,
   "metadata": {},
   "outputs": [],
   "source": [
    "import numpy as np"
   ]
  },
  {
   "cell_type": "code",
   "execution_count": 11,
   "metadata": {},
   "outputs": [
    {
     "name": "stdout",
     "output_type": "stream",
     "text": [
      "Production.Product.csv\n",
      "Porcentagem de nulos Production.Product.csv\n"
     ]
    },
    {
     "data": {
      "text/plain": [
       "ProductID                0.000000\n",
       "Name                     0.000000\n",
       "ProductNumber            0.000000\n",
       "MakeFlag                 0.000000\n",
       "FinishedGoodsFlag        0.000000\n",
       "Color                    0.492063\n",
       "SafetyStockLevel         0.000000\n",
       "ReorderPoint             0.000000\n",
       "StandardCost             0.000000\n",
       "ListPrice                0.000000\n",
       "Size                     0.581349\n",
       "SizeUnitMeasureCode      0.650794\n",
       "WeightUnitMeasureCode    0.593254\n",
       "Weight                   0.593254\n",
       "DaysToManufacture        0.000000\n",
       "ProductLine              0.448413\n",
       "Class                    0.509921\n",
       "Style                    0.581349\n",
       "ProductSubcategoryID     0.414683\n",
       "ProductModelID           0.414683\n",
       "SellStartDate            0.000000\n",
       "SellEndDate              0.805556\n",
       "DiscontinuedDate         1.000000\n",
       "rowguid                  0.000000\n",
       "ModifiedDate             0.000000\n",
       "dtype: float64"
      ]
     },
     "execution_count": 11,
     "metadata": {},
     "output_type": "execute_result"
    }
   ],
   "source": [
    "df_product = df_list[-2]\n",
    "print(df_name[-2])\n",
    "print(\"Porcentagem de nulos\",df_name[-2])\n",
    "pd.isna(df_product).sum()/df_product.shape[0]"
   ]
  },
  {
   "cell_type": "code",
   "execution_count": 33,
   "metadata": {},
   "outputs": [
    {
     "data": {
      "text/plain": [
       "0      0\n",
       "1      0\n",
       "2      1\n",
       "3      0\n",
       "4      1\n",
       "      ..\n",
       "499    1\n",
       "500    1\n",
       "501    4\n",
       "502    4\n",
       "503    4\n",
       "Name: DaysToManufacture, Length: 504, dtype: int64"
      ]
     },
     "execution_count": 33,
     "metadata": {},
     "output_type": "execute_result"
    }
   ],
   "source": [
    "df_product['DaysToManufacture']"
   ]
  },
  {
   "cell_type": "code",
   "execution_count": 13,
   "metadata": {},
   "outputs": [
    {
     "name": "stdout",
     "output_type": "stream",
     "text": [
      "Sales.Customer.csv\n",
      "Porcentagem de nulos Sales.Customer.csv\n"
     ]
    },
    {
     "data": {
      "text/plain": [
       "CustomerID       0.000000\n",
       "PersonID         0.035368\n",
       "StoreID          0.932593\n",
       "TerritoryID      0.000000\n",
       "AccountNumber    0.000000\n",
       "rowguid          0.000000\n",
       "ModifiedDate     0.000000\n",
       "dtype: float64"
      ]
     },
     "execution_count": 13,
     "metadata": {},
     "output_type": "execute_result"
    }
   ],
   "source": [
    "df_sale = df_list[-3]\n",
    "print(df_name[-3])\n",
    "print(\"Porcentagem de nulos\",df_name[-3])\n",
    "pd.isna(df_sale).sum()/df_sale.shape[0]"
   ]
  },
  {
   "cell_type": "code",
   "execution_count": 14,
   "metadata": {},
   "outputs": [
    {
     "data": {
      "text/html": [
       "<div>\n",
       "<style scoped>\n",
       "    .dataframe tbody tr th:only-of-type {\n",
       "        vertical-align: middle;\n",
       "    }\n",
       "\n",
       "    .dataframe tbody tr th {\n",
       "        vertical-align: top;\n",
       "    }\n",
       "\n",
       "    .dataframe thead th {\n",
       "        text-align: right;\n",
       "    }\n",
       "</style>\n",
       "<table border=\"1\" class=\"dataframe\">\n",
       "  <thead>\n",
       "    <tr style=\"text-align: right;\">\n",
       "      <th></th>\n",
       "      <th>CustomerID</th>\n",
       "      <th>PersonID</th>\n",
       "      <th>StoreID</th>\n",
       "      <th>TerritoryID</th>\n",
       "      <th>AccountNumber</th>\n",
       "      <th>rowguid</th>\n",
       "      <th>ModifiedDate</th>\n",
       "    </tr>\n",
       "  </thead>\n",
       "  <tbody>\n",
       "    <tr>\n",
       "      <th>0</th>\n",
       "      <td>1</td>\n",
       "      <td>NaN</td>\n",
       "      <td>934.0</td>\n",
       "      <td>1</td>\n",
       "      <td>AW00000001</td>\n",
       "      <td>3F5AE95E-B87D-4AED-95B4-C3797AFCB74F</td>\n",
       "      <td>2014-09-12 11:15:07.263</td>\n",
       "    </tr>\n",
       "    <tr>\n",
       "      <th>1</th>\n",
       "      <td>2</td>\n",
       "      <td>NaN</td>\n",
       "      <td>1028.0</td>\n",
       "      <td>1</td>\n",
       "      <td>AW00000002</td>\n",
       "      <td>E552F657-A9AF-4A7D-A645-C429D6E02491</td>\n",
       "      <td>2014-09-12 11:15:07.263</td>\n",
       "    </tr>\n",
       "    <tr>\n",
       "      <th>2</th>\n",
       "      <td>3</td>\n",
       "      <td>NaN</td>\n",
       "      <td>642.0</td>\n",
       "      <td>4</td>\n",
       "      <td>AW00000003</td>\n",
       "      <td>130774B1-DB21-4EF3-98C8-C104BCD6ED6D</td>\n",
       "      <td>2014-09-12 11:15:07.263</td>\n",
       "    </tr>\n",
       "    <tr>\n",
       "      <th>3</th>\n",
       "      <td>4</td>\n",
       "      <td>NaN</td>\n",
       "      <td>932.0</td>\n",
       "      <td>4</td>\n",
       "      <td>AW00000004</td>\n",
       "      <td>FF862851-1DAA-4044-BE7C-3E85583C054D</td>\n",
       "      <td>2014-09-12 11:15:07.263</td>\n",
       "    </tr>\n",
       "    <tr>\n",
       "      <th>4</th>\n",
       "      <td>5</td>\n",
       "      <td>NaN</td>\n",
       "      <td>1026.0</td>\n",
       "      <td>4</td>\n",
       "      <td>AW00000005</td>\n",
       "      <td>83905BDC-6F5E-4F71-B162-C98DA069F38A</td>\n",
       "      <td>2014-09-12 11:15:07.263</td>\n",
       "    </tr>\n",
       "    <tr>\n",
       "      <th>...</th>\n",
       "      <td>...</td>\n",
       "      <td>...</td>\n",
       "      <td>...</td>\n",
       "      <td>...</td>\n",
       "      <td>...</td>\n",
       "      <td>...</td>\n",
       "      <td>...</td>\n",
       "    </tr>\n",
       "    <tr>\n",
       "      <th>19815</th>\n",
       "      <td>30114</td>\n",
       "      <td>1985.0</td>\n",
       "      <td>1986.0</td>\n",
       "      <td>7</td>\n",
       "      <td>AW00030114</td>\n",
       "      <td>97154F3D-28F1-4B15-AE03-9518B781ECE3</td>\n",
       "      <td>2014-09-12 11:15:07.263</td>\n",
       "    </tr>\n",
       "    <tr>\n",
       "      <th>19816</th>\n",
       "      <td>30115</td>\n",
       "      <td>1987.0</td>\n",
       "      <td>1988.0</td>\n",
       "      <td>6</td>\n",
       "      <td>AW00030115</td>\n",
       "      <td>E4CF8FD5-30A4-4B8E-8FD8-47032E255778</td>\n",
       "      <td>2014-09-12 11:15:07.263</td>\n",
       "    </tr>\n",
       "    <tr>\n",
       "      <th>19817</th>\n",
       "      <td>30116</td>\n",
       "      <td>1989.0</td>\n",
       "      <td>1990.0</td>\n",
       "      <td>4</td>\n",
       "      <td>AW00030116</td>\n",
       "      <td>EC409609-D25D-41B8-9D15-A1AA6E89FC77</td>\n",
       "      <td>2014-09-12 11:15:07.263</td>\n",
       "    </tr>\n",
       "    <tr>\n",
       "      <th>19818</th>\n",
       "      <td>30117</td>\n",
       "      <td>1991.0</td>\n",
       "      <td>1992.0</td>\n",
       "      <td>4</td>\n",
       "      <td>AW00030117</td>\n",
       "      <td>6F08E2FB-1CD3-4F6E-A2E6-385669598B19</td>\n",
       "      <td>2014-09-12 11:15:07.263</td>\n",
       "    </tr>\n",
       "    <tr>\n",
       "      <th>19819</th>\n",
       "      <td>30118</td>\n",
       "      <td>1993.0</td>\n",
       "      <td>1994.0</td>\n",
       "      <td>3</td>\n",
       "      <td>AW00030118</td>\n",
       "      <td>2495B4EB-FE8B-459E-A1B6-DBA25C04E626</td>\n",
       "      <td>2014-09-12 11:15:07.263</td>\n",
       "    </tr>\n",
       "  </tbody>\n",
       "</table>\n",
       "<p>19820 rows × 7 columns</p>\n",
       "</div>"
      ],
      "text/plain": [
       "       CustomerID  PersonID  StoreID  TerritoryID AccountNumber  \\\n",
       "0               1       NaN    934.0            1    AW00000001   \n",
       "1               2       NaN   1028.0            1    AW00000002   \n",
       "2               3       NaN    642.0            4    AW00000003   \n",
       "3               4       NaN    932.0            4    AW00000004   \n",
       "4               5       NaN   1026.0            4    AW00000005   \n",
       "...           ...       ...      ...          ...           ...   \n",
       "19815       30114    1985.0   1986.0            7    AW00030114   \n",
       "19816       30115    1987.0   1988.0            6    AW00030115   \n",
       "19817       30116    1989.0   1990.0            4    AW00030116   \n",
       "19818       30117    1991.0   1992.0            4    AW00030117   \n",
       "19819       30118    1993.0   1994.0            3    AW00030118   \n",
       "\n",
       "                                    rowguid             ModifiedDate  \n",
       "0      3F5AE95E-B87D-4AED-95B4-C3797AFCB74F  2014-09-12 11:15:07.263  \n",
       "1      E552F657-A9AF-4A7D-A645-C429D6E02491  2014-09-12 11:15:07.263  \n",
       "2      130774B1-DB21-4EF3-98C8-C104BCD6ED6D  2014-09-12 11:15:07.263  \n",
       "3      FF862851-1DAA-4044-BE7C-3E85583C054D  2014-09-12 11:15:07.263  \n",
       "4      83905BDC-6F5E-4F71-B162-C98DA069F38A  2014-09-12 11:15:07.263  \n",
       "...                                     ...                      ...  \n",
       "19815  97154F3D-28F1-4B15-AE03-9518B781ECE3  2014-09-12 11:15:07.263  \n",
       "19816  E4CF8FD5-30A4-4B8E-8FD8-47032E255778  2014-09-12 11:15:07.263  \n",
       "19817  EC409609-D25D-41B8-9D15-A1AA6E89FC77  2014-09-12 11:15:07.263  \n",
       "19818  6F08E2FB-1CD3-4F6E-A2E6-385669598B19  2014-09-12 11:15:07.263  \n",
       "19819  2495B4EB-FE8B-459E-A1B6-DBA25C04E626  2014-09-12 11:15:07.263  \n",
       "\n",
       "[19820 rows x 7 columns]"
      ]
     },
     "execution_count": 14,
     "metadata": {},
     "output_type": "execute_result"
    }
   ],
   "source": [
    "df_sale"
   ]
  },
  {
   "cell_type": "code",
   "execution_count": 34,
   "metadata": {},
   "outputs": [
    {
     "name": "stdout",
     "output_type": "stream",
     "text": [
      "Sales.SpecialOfferProduct.csv\n",
      "Porcentagem de nulos Sales.SpecialOfferProduct.csv\n"
     ]
    },
    {
     "data": {
      "text/plain": [
       "SpecialOfferID    0.0\n",
       "ProductID         0.0\n",
       "rowguid           0.0\n",
       "ModifiedDate      0.0\n",
       "dtype: float64"
      ]
     },
     "execution_count": 34,
     "metadata": {},
     "output_type": "execute_result"
    }
   ],
   "source": [
    "df_sale = df_list[-4]\n",
    "print(df_name[-4])\n",
    "print(\"Porcentagem de nulos\",df_name[-4])\n",
    "pd.isna(df_sale).sum()/df_sale.shape[0]"
   ]
  },
  {
   "cell_type": "code",
   "execution_count": 35,
   "metadata": {},
   "outputs": [
    {
     "data": {
      "text/html": [
       "<div>\n",
       "<style scoped>\n",
       "    .dataframe tbody tr th:only-of-type {\n",
       "        vertical-align: middle;\n",
       "    }\n",
       "\n",
       "    .dataframe tbody tr th {\n",
       "        vertical-align: top;\n",
       "    }\n",
       "\n",
       "    .dataframe thead th {\n",
       "        text-align: right;\n",
       "    }\n",
       "</style>\n",
       "<table border=\"1\" class=\"dataframe\">\n",
       "  <thead>\n",
       "    <tr style=\"text-align: right;\">\n",
       "      <th></th>\n",
       "      <th>SpecialOfferID</th>\n",
       "      <th>ProductID</th>\n",
       "      <th>rowguid</th>\n",
       "      <th>ModifiedDate</th>\n",
       "    </tr>\n",
       "  </thead>\n",
       "  <tbody>\n",
       "    <tr>\n",
       "      <th>0</th>\n",
       "      <td>1</td>\n",
       "      <td>680</td>\n",
       "      <td>BB30B868-D86C-4557-8DB2-4B2D0A83A0FB</td>\n",
       "      <td>2011-04-01 00:00:00.000</td>\n",
       "    </tr>\n",
       "    <tr>\n",
       "      <th>1</th>\n",
       "      <td>1</td>\n",
       "      <td>706</td>\n",
       "      <td>B3C9A4B1-2AE6-4CBA-B552-1F206C9F4C1F</td>\n",
       "      <td>2011-04-01 00:00:00.000</td>\n",
       "    </tr>\n",
       "    <tr>\n",
       "      <th>2</th>\n",
       "      <td>1</td>\n",
       "      <td>707</td>\n",
       "      <td>27B711FE-0B77-4EA4-AD1A-7C239956BEF4</td>\n",
       "      <td>2011-04-01 00:00:00.000</td>\n",
       "    </tr>\n",
       "    <tr>\n",
       "      <th>3</th>\n",
       "      <td>1</td>\n",
       "      <td>708</td>\n",
       "      <td>46CBB78B-246E-4D69-9BD6-E521277C1078</td>\n",
       "      <td>2011-04-01 00:00:00.000</td>\n",
       "    </tr>\n",
       "    <tr>\n",
       "      <th>4</th>\n",
       "      <td>1</td>\n",
       "      <td>709</td>\n",
       "      <td>CF102AA0-055F-4D2B-8B98-04B161758EA8</td>\n",
       "      <td>2011-04-01 00:00:00.000</td>\n",
       "    </tr>\n",
       "    <tr>\n",
       "      <th>...</th>\n",
       "      <td>...</td>\n",
       "      <td>...</td>\n",
       "      <td>...</td>\n",
       "      <td>...</td>\n",
       "    </tr>\n",
       "    <tr>\n",
       "      <th>533</th>\n",
       "      <td>16</td>\n",
       "      <td>984</td>\n",
       "      <td>52DD0F65-0EA9-4848-9884-7594BA953274</td>\n",
       "      <td>2014-03-01 00:00:00.000</td>\n",
       "    </tr>\n",
       "    <tr>\n",
       "      <th>534</th>\n",
       "      <td>16</td>\n",
       "      <td>985</td>\n",
       "      <td>C8127A82-05C3-42FD-A5C6-215D58A236BD</td>\n",
       "      <td>2014-03-01 00:00:00.000</td>\n",
       "    </tr>\n",
       "    <tr>\n",
       "      <th>535</th>\n",
       "      <td>16</td>\n",
       "      <td>986</td>\n",
       "      <td>C60FB28D-2431-481C-985E-3FEA8119D705</td>\n",
       "      <td>2014-03-01 00:00:00.000</td>\n",
       "    </tr>\n",
       "    <tr>\n",
       "      <th>536</th>\n",
       "      <td>16</td>\n",
       "      <td>987</td>\n",
       "      <td>BEBD6F20-D6C2-4511-8C97-1F53B2099D1F</td>\n",
       "      <td>2014-03-01 00:00:00.000</td>\n",
       "    </tr>\n",
       "    <tr>\n",
       "      <th>537</th>\n",
       "      <td>16</td>\n",
       "      <td>988</td>\n",
       "      <td>2981C98B-A18F-4153-A6A2-EC453CB130CE</td>\n",
       "      <td>2014-03-01 00:00:00.000</td>\n",
       "    </tr>\n",
       "  </tbody>\n",
       "</table>\n",
       "<p>538 rows × 4 columns</p>\n",
       "</div>"
      ],
      "text/plain": [
       "     SpecialOfferID  ProductID                               rowguid  \\\n",
       "0                 1        680  BB30B868-D86C-4557-8DB2-4B2D0A83A0FB   \n",
       "1                 1        706  B3C9A4B1-2AE6-4CBA-B552-1F206C9F4C1F   \n",
       "2                 1        707  27B711FE-0B77-4EA4-AD1A-7C239956BEF4   \n",
       "3                 1        708  46CBB78B-246E-4D69-9BD6-E521277C1078   \n",
       "4                 1        709  CF102AA0-055F-4D2B-8B98-04B161758EA8   \n",
       "..              ...        ...                                   ...   \n",
       "533              16        984  52DD0F65-0EA9-4848-9884-7594BA953274   \n",
       "534              16        985  C8127A82-05C3-42FD-A5C6-215D58A236BD   \n",
       "535              16        986  C60FB28D-2431-481C-985E-3FEA8119D705   \n",
       "536              16        987  BEBD6F20-D6C2-4511-8C97-1F53B2099D1F   \n",
       "537              16        988  2981C98B-A18F-4153-A6A2-EC453CB130CE   \n",
       "\n",
       "                ModifiedDate  \n",
       "0    2011-04-01 00:00:00.000  \n",
       "1    2011-04-01 00:00:00.000  \n",
       "2    2011-04-01 00:00:00.000  \n",
       "3    2011-04-01 00:00:00.000  \n",
       "4    2011-04-01 00:00:00.000  \n",
       "..                       ...  \n",
       "533  2014-03-01 00:00:00.000  \n",
       "534  2014-03-01 00:00:00.000  \n",
       "535  2014-03-01 00:00:00.000  \n",
       "536  2014-03-01 00:00:00.000  \n",
       "537  2014-03-01 00:00:00.000  \n",
       "\n",
       "[538 rows x 4 columns]"
      ]
     },
     "execution_count": 35,
     "metadata": {},
     "output_type": "execute_result"
    }
   ],
   "source": [
    "df_sale"
   ]
  },
  {
   "cell_type": "code",
   "execution_count": 36,
   "metadata": {},
   "outputs": [
    {
     "name": "stdout",
     "output_type": "stream",
     "text": [
      "Sales.SalesOrderHeader.csv\n",
      "Porcentagem de nulos Sales.SalesOrderHeader.csv\n"
     ]
    },
    {
     "data": {
      "text/plain": [
       "SalesOrderID              0.000000\n",
       "RevisionNumber            0.000000\n",
       "OrderDate                 0.000000\n",
       "DueDate                   0.000000\n",
       "ShipDate                  0.000000\n",
       "Status                    0.000000\n",
       "OnlineOrderFlag           0.000000\n",
       "SalesOrderNumber          0.000000\n",
       "PurchaseOrderNumber       0.879040\n",
       "AccountNumber             0.000000\n",
       "CustomerID                0.000000\n",
       "SalesPersonID             0.879040\n",
       "TerritoryID               0.000000\n",
       "BillToAddressID           0.000000\n",
       "ShipToAddressID           0.000000\n",
       "ShipMethodID              0.000000\n",
       "CreditCardID              0.035945\n",
       "CreditCardApprovalCode    0.035945\n",
       "CurrencyRateID            0.555824\n",
       "SubTotal                  0.000000\n",
       "TaxAmt                    0.000000\n",
       "Freight                   0.000000\n",
       "TotalDue                  0.000000\n",
       "Comment                   1.000000\n",
       "rowguid                   0.000000\n",
       "ModifiedDate              0.000000\n",
       "dtype: float64"
      ]
     },
     "execution_count": 36,
     "metadata": {},
     "output_type": "execute_result"
    }
   ],
   "source": [
    "df_sale = df_list[-5]\n",
    "print(df_name[-5])\n",
    "print(\"Porcentagem de nulos\",df_name[-5])\n",
    "pd.isna(df_sale).sum()/df_sale.shape[0]"
   ]
  },
  {
   "cell_type": "code",
   "execution_count": 40,
   "metadata": {
    "scrolled": true
   },
   "outputs": [],
   "source": [
    "df_sale['TotalDue'] = df_sale['TotalDue'].str.replace(',','.')"
   ]
  },
  {
   "cell_type": "code",
   "execution_count": 43,
   "metadata": {},
   "outputs": [],
   "source": [
    "df_sale.to_csv('Sales.SalesOrderHeader2.csv',index=False,sep='|')"
   ]
  },
  {
   "cell_type": "code",
   "execution_count": 44,
   "metadata": {},
   "outputs": [
    {
     "name": "stdout",
     "output_type": "stream",
     "text": [
      "Sales.SalesOrderDetail.csv\n",
      "Porcentagem de nulos Sales.SalesOrderDetail.csv\n"
     ]
    },
    {
     "data": {
      "text/plain": [
       "SalesOrderID             0.000000\n",
       "SalesOrderDetailID       0.000000\n",
       "CarrierTrackingNumber    0.497853\n",
       "OrderQty                 0.000000\n",
       "ProductID                0.000000\n",
       "SpecialOfferID           0.000000\n",
       "UnitPrice                0.000000\n",
       "UnitPriceDiscount        0.000000\n",
       "LineTotal                0.000000\n",
       "rowguid                  0.000000\n",
       "ModifiedDate             0.000000\n",
       "dtype: float64"
      ]
     },
     "execution_count": 44,
     "metadata": {},
     "output_type": "execute_result"
    }
   ],
   "source": [
    "df_sale = df_list[-6]\n",
    "print(df_name[-6])\n",
    "print(\"Porcentagem de nulos\",df_name[-6])\n",
    "pd.isna(df_sale).sum()/df_sale.shape[0]"
   ]
  },
  {
   "cell_type": "code",
   "execution_count": 45,
   "metadata": {},
   "outputs": [
    {
     "data": {
      "text/html": [
       "<div>\n",
       "<style scoped>\n",
       "    .dataframe tbody tr th:only-of-type {\n",
       "        vertical-align: middle;\n",
       "    }\n",
       "\n",
       "    .dataframe tbody tr th {\n",
       "        vertical-align: top;\n",
       "    }\n",
       "\n",
       "    .dataframe thead th {\n",
       "        text-align: right;\n",
       "    }\n",
       "</style>\n",
       "<table border=\"1\" class=\"dataframe\">\n",
       "  <thead>\n",
       "    <tr style=\"text-align: right;\">\n",
       "      <th></th>\n",
       "      <th>SalesOrderID</th>\n",
       "      <th>SalesOrderDetailID</th>\n",
       "      <th>CarrierTrackingNumber</th>\n",
       "      <th>OrderQty</th>\n",
       "      <th>ProductID</th>\n",
       "      <th>SpecialOfferID</th>\n",
       "      <th>UnitPrice</th>\n",
       "      <th>UnitPriceDiscount</th>\n",
       "      <th>LineTotal</th>\n",
       "      <th>rowguid</th>\n",
       "      <th>ModifiedDate</th>\n",
       "    </tr>\n",
       "  </thead>\n",
       "  <tbody>\n",
       "    <tr>\n",
       "      <th>0</th>\n",
       "      <td>43659</td>\n",
       "      <td>1</td>\n",
       "      <td>4911-403C-98</td>\n",
       "      <td>1</td>\n",
       "      <td>776</td>\n",
       "      <td>1</td>\n",
       "      <td>2024,994</td>\n",
       "      <td>0,00</td>\n",
       "      <td>2024.994</td>\n",
       "      <td>B207C96D-D9E6-402B-8470-2CC176C42283</td>\n",
       "      <td>2011-05-31 00:00:00.000</td>\n",
       "    </tr>\n",
       "    <tr>\n",
       "      <th>1</th>\n",
       "      <td>43659</td>\n",
       "      <td>2</td>\n",
       "      <td>4911-403C-98</td>\n",
       "      <td>3</td>\n",
       "      <td>777</td>\n",
       "      <td>1</td>\n",
       "      <td>2024,994</td>\n",
       "      <td>0,00</td>\n",
       "      <td>6074.982</td>\n",
       "      <td>7ABB600D-1E77-41BE-9FE5-B9142CFC08FA</td>\n",
       "      <td>2011-05-31 00:00:00.000</td>\n",
       "    </tr>\n",
       "    <tr>\n",
       "      <th>2</th>\n",
       "      <td>43659</td>\n",
       "      <td>3</td>\n",
       "      <td>4911-403C-98</td>\n",
       "      <td>1</td>\n",
       "      <td>778</td>\n",
       "      <td>1</td>\n",
       "      <td>2024,994</td>\n",
       "      <td>0,00</td>\n",
       "      <td>2024.994</td>\n",
       "      <td>475CF8C6-49F6-486E-B0AD-AFC6A50CDD2F</td>\n",
       "      <td>2011-05-31 00:00:00.000</td>\n",
       "    </tr>\n",
       "    <tr>\n",
       "      <th>3</th>\n",
       "      <td>43659</td>\n",
       "      <td>4</td>\n",
       "      <td>4911-403C-98</td>\n",
       "      <td>1</td>\n",
       "      <td>771</td>\n",
       "      <td>1</td>\n",
       "      <td>2039,994</td>\n",
       "      <td>0,00</td>\n",
       "      <td>2039.994</td>\n",
       "      <td>04C4DE91-5815-45D6-8670-F462719FBCE3</td>\n",
       "      <td>2011-05-31 00:00:00.000</td>\n",
       "    </tr>\n",
       "    <tr>\n",
       "      <th>4</th>\n",
       "      <td>43659</td>\n",
       "      <td>5</td>\n",
       "      <td>4911-403C-98</td>\n",
       "      <td>1</td>\n",
       "      <td>772</td>\n",
       "      <td>1</td>\n",
       "      <td>2039,994</td>\n",
       "      <td>0,00</td>\n",
       "      <td>2039.994</td>\n",
       "      <td>5A74C7D2-E641-438E-A7AC-37BF23280301</td>\n",
       "      <td>2011-05-31 00:00:00.000</td>\n",
       "    </tr>\n",
       "    <tr>\n",
       "      <th>...</th>\n",
       "      <td>...</td>\n",
       "      <td>...</td>\n",
       "      <td>...</td>\n",
       "      <td>...</td>\n",
       "      <td>...</td>\n",
       "      <td>...</td>\n",
       "      <td>...</td>\n",
       "      <td>...</td>\n",
       "      <td>...</td>\n",
       "      <td>...</td>\n",
       "      <td>...</td>\n",
       "    </tr>\n",
       "    <tr>\n",
       "      <th>121312</th>\n",
       "      <td>75122</td>\n",
       "      <td>121313</td>\n",
       "      <td>NaN</td>\n",
       "      <td>1</td>\n",
       "      <td>878</td>\n",
       "      <td>1</td>\n",
       "      <td>21,98</td>\n",
       "      <td>0,00</td>\n",
       "      <td>21.980</td>\n",
       "      <td>8CAD6675-18CC-4F47-8287-97B41A8EE47D</td>\n",
       "      <td>2014-06-30 00:00:00.000</td>\n",
       "    </tr>\n",
       "    <tr>\n",
       "      <th>121313</th>\n",
       "      <td>75122</td>\n",
       "      <td>121314</td>\n",
       "      <td>NaN</td>\n",
       "      <td>1</td>\n",
       "      <td>712</td>\n",
       "      <td>1</td>\n",
       "      <td>8,99</td>\n",
       "      <td>0,00</td>\n",
       "      <td>8.990</td>\n",
       "      <td>84F1C363-1C50-4442-BE16-541C59B6E12C</td>\n",
       "      <td>2014-06-30 00:00:00.000</td>\n",
       "    </tr>\n",
       "    <tr>\n",
       "      <th>121314</th>\n",
       "      <td>75123</td>\n",
       "      <td>121315</td>\n",
       "      <td>NaN</td>\n",
       "      <td>1</td>\n",
       "      <td>878</td>\n",
       "      <td>1</td>\n",
       "      <td>21,98</td>\n",
       "      <td>0,00</td>\n",
       "      <td>21.980</td>\n",
       "      <td>C18B6476-429F-4BB1-828E-2BE5F82A0A51</td>\n",
       "      <td>2014-06-30 00:00:00.000</td>\n",
       "    </tr>\n",
       "    <tr>\n",
       "      <th>121315</th>\n",
       "      <td>75123</td>\n",
       "      <td>121316</td>\n",
       "      <td>NaN</td>\n",
       "      <td>1</td>\n",
       "      <td>879</td>\n",
       "      <td>1</td>\n",
       "      <td>159,00</td>\n",
       "      <td>0,00</td>\n",
       "      <td>159.000</td>\n",
       "      <td>75A89C6A-C60A-47EA-8A52-B52A9C435B64</td>\n",
       "      <td>2014-06-30 00:00:00.000</td>\n",
       "    </tr>\n",
       "    <tr>\n",
       "      <th>121316</th>\n",
       "      <td>75123</td>\n",
       "      <td>121317</td>\n",
       "      <td>NaN</td>\n",
       "      <td>1</td>\n",
       "      <td>712</td>\n",
       "      <td>1</td>\n",
       "      <td>8,99</td>\n",
       "      <td>0,00</td>\n",
       "      <td>8.990</td>\n",
       "      <td>73646D26-0461-450D-8019-2C6C858619CA</td>\n",
       "      <td>2014-06-30 00:00:00.000</td>\n",
       "    </tr>\n",
       "  </tbody>\n",
       "</table>\n",
       "<p>121317 rows × 11 columns</p>\n",
       "</div>"
      ],
      "text/plain": [
       "        SalesOrderID  SalesOrderDetailID CarrierTrackingNumber  OrderQty  \\\n",
       "0              43659                   1          4911-403C-98         1   \n",
       "1              43659                   2          4911-403C-98         3   \n",
       "2              43659                   3          4911-403C-98         1   \n",
       "3              43659                   4          4911-403C-98         1   \n",
       "4              43659                   5          4911-403C-98         1   \n",
       "...              ...                 ...                   ...       ...   \n",
       "121312         75122              121313                   NaN         1   \n",
       "121313         75122              121314                   NaN         1   \n",
       "121314         75123              121315                   NaN         1   \n",
       "121315         75123              121316                   NaN         1   \n",
       "121316         75123              121317                   NaN         1   \n",
       "\n",
       "        ProductID  SpecialOfferID UnitPrice UnitPriceDiscount  LineTotal  \\\n",
       "0             776               1  2024,994              0,00   2024.994   \n",
       "1             777               1  2024,994              0,00   6074.982   \n",
       "2             778               1  2024,994              0,00   2024.994   \n",
       "3             771               1  2039,994              0,00   2039.994   \n",
       "4             772               1  2039,994              0,00   2039.994   \n",
       "...           ...             ...       ...               ...        ...   \n",
       "121312        878               1     21,98              0,00     21.980   \n",
       "121313        712               1      8,99              0,00      8.990   \n",
       "121314        878               1     21,98              0,00     21.980   \n",
       "121315        879               1    159,00              0,00    159.000   \n",
       "121316        712               1      8,99              0,00      8.990   \n",
       "\n",
       "                                     rowguid             ModifiedDate  \n",
       "0       B207C96D-D9E6-402B-8470-2CC176C42283  2011-05-31 00:00:00.000  \n",
       "1       7ABB600D-1E77-41BE-9FE5-B9142CFC08FA  2011-05-31 00:00:00.000  \n",
       "2       475CF8C6-49F6-486E-B0AD-AFC6A50CDD2F  2011-05-31 00:00:00.000  \n",
       "3       04C4DE91-5815-45D6-8670-F462719FBCE3  2011-05-31 00:00:00.000  \n",
       "4       5A74C7D2-E641-438E-A7AC-37BF23280301  2011-05-31 00:00:00.000  \n",
       "...                                      ...                      ...  \n",
       "121312  8CAD6675-18CC-4F47-8287-97B41A8EE47D  2014-06-30 00:00:00.000  \n",
       "121313  84F1C363-1C50-4442-BE16-541C59B6E12C  2014-06-30 00:00:00.000  \n",
       "121314  C18B6476-429F-4BB1-828E-2BE5F82A0A51  2014-06-30 00:00:00.000  \n",
       "121315  75A89C6A-C60A-47EA-8A52-B52A9C435B64  2014-06-30 00:00:00.000  \n",
       "121316  73646D26-0461-450D-8019-2C6C858619CA  2014-06-30 00:00:00.000  \n",
       "\n",
       "[121317 rows x 11 columns]"
      ]
     },
     "execution_count": 45,
     "metadata": {},
     "output_type": "execute_result"
    }
   ],
   "source": [
    "df_sale"
   ]
  },
  {
   "cell_type": "code",
   "execution_count": null,
   "metadata": {},
   "outputs": [],
   "source": []
  },
  {
   "cell_type": "code",
   "execution_count": null,
   "metadata": {},
   "outputs": [],
   "source": []
  },
  {
   "cell_type": "code",
   "execution_count": null,
   "metadata": {},
   "outputs": [],
   "source": []
  }
 ],
 "metadata": {
  "kernelspec": {
   "display_name": "Python 3",
   "language": "python",
   "name": "python3"
  },
  "language_info": {
   "codemirror_mode": {
    "name": "ipython",
    "version": 3
   },
   "file_extension": ".py",
   "mimetype": "text/x-python",
   "name": "python",
   "nbconvert_exporter": "python",
   "pygments_lexer": "ipython3",
   "version": "3.8.3"
  }
 },
 "nbformat": 4,
 "nbformat_minor": 4
}
